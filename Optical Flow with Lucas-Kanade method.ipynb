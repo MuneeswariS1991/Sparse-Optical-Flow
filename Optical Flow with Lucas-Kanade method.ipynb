{
 "cells": [
  {
   "cell_type": "code",
   "execution_count": 17,
   "metadata": {},
   "outputs": [
    {
     "ename": "error",
     "evalue": "OpenCV(4.2.0) C:\\projects\\opencv-python\\opencv\\modules\\imgproc\\src\\color.cpp:182: error: (-215:Assertion failed) !_src.empty() in function 'cv::cvtColor'\n",
     "output_type": "error",
     "traceback": [
      "\u001b[1;31m---------------------------------------------------------------------------\u001b[0m",
      "\u001b[1;31merror\u001b[0m                                     Traceback (most recent call last)",
      "\u001b[1;32m<ipython-input-17-1082d5a556df>\u001b[0m in \u001b[0;36m<module>\u001b[1;34m\u001b[0m\n\u001b[0;32m     32\u001b[0m         \u001b[0mret\u001b[0m\u001b[1;33m,\u001b[0m \u001b[0mframe\u001b[0m \u001b[1;33m=\u001b[0m \u001b[0mcap\u001b[0m\u001b[1;33m.\u001b[0m\u001b[0mread\u001b[0m\u001b[1;33m(\u001b[0m\u001b[1;33m)\u001b[0m\u001b[1;33m\u001b[0m\u001b[1;33m\u001b[0m\u001b[0m\n\u001b[0;32m     33\u001b[0m \tframe_gray = cv2.cvtColor(frame, \n\u001b[1;32m---> 34\u001b[1;33m \t\t\t\t\t\t\tcv2.COLOR_BGR2GRAY) \n\u001b[0m\u001b[0;32m     35\u001b[0m \u001b[1;33m\u001b[0m\u001b[0m\n\u001b[0;32m     36\u001b[0m         \u001b[1;31m# calculate optical flow\u001b[0m\u001b[1;33m\u001b[0m\u001b[1;33m\u001b[0m\u001b[1;33m\u001b[0m\u001b[0m\n",
      "\u001b[1;31merror\u001b[0m: OpenCV(4.2.0) C:\\projects\\opencv-python\\opencv\\modules\\imgproc\\src\\color.cpp:182: error: (-215:Assertion failed) !_src.empty() in function 'cv::cvtColor'\n"
     ]
    }
   ],
   "source": [
    "import numpy as np \n",
    "import cv2 \n",
    "\n",
    "cap = cv2.VideoCapture('D:/IRDE/Frame separation input/Input/Video 3.asf') \n",
    "\n",
    "# params for corner detection \n",
    "feature_params = dict( maxCorners = 100, \n",
    "\t\t\t\t\tqualityLevel = 0.3, \n",
    "\t\t\t\t\tminDistance = 7, \n",
    "\t\t\t\t\tblockSize = 7 ) \n",
    "\n",
    "# Parameters for lucas kanade optical flow \n",
    "lk_params = dict( winSize = (15, 15), \n",
    "\t\t\t\tmaxLevel = 2, \n",
    "\t\t\t\tcriteria = (cv2.TERM_CRITERIA_EPS | cv2.TERM_CRITERIA_COUNT, \n",
    "\t\t\t\t\t\t\t10, 0.03)) \n",
    "\n",
    "# Create some random colors \n",
    "color = np.random.randint(0, 255, (100, 3)) \n",
    "\n",
    "# Take first frame and find corners in it \n",
    "ret, old_frame = cap.read() \n",
    "old_gray = cv2.cvtColor(old_frame, \n",
    "\t\t\t\t\t\tcv2.COLOR_BGR2GRAY) \n",
    "p0 = cv2.goodFeaturesToTrack(old_gray, mask = None, \n",
    "\t\t\t\t\t\t\t**feature_params) \n",
    "\n",
    "# Create a mask image for drawing purposes \n",
    "mask = np.zeros_like(old_frame) \n",
    "\n",
    "while(1):\n",
    "\tret, frame = cap.read() \n",
    "\tframe_gray = cv2.cvtColor(frame, \n",
    "\t\t\t\t\t\t\tcv2.COLOR_BGR2GRAY) \n",
    "\n",
    "\t# calculate optical flow \n",
    "\tp1, st, err = cv2.calcOpticalFlowPyrLK(old_gray, \n",
    "\t\t\t\t\t\t\t\t\t\tframe_gray, \n",
    "\t\t\t\t\t\t\t\t\t\tp0, None, \n",
    "\t\t\t\t\t\t\t\t\t\t**lk_params) \n",
    "\n",
    "\t# Select good points \n",
    "\tgood_new = p1[st == 1] \n",
    "\tgood_old = p0[st == 1] \n",
    "\n",
    "\t# draw the tracks \n",
    "\tfor i, (new, old) in enumerate(zip(good_new, \n",
    "\t\t\t\t\t\t\t\t\tgood_old)): \n",
    "\t\ta, b = new.ravel() \n",
    "\t\tc, d = old.ravel() \n",
    "\t\tmask = cv2.line(mask, (a, b), (c, d), \n",
    "\t\t\t\t\t\tcolor[i].tolist(), 2) \n",
    "\t\tframe = cv2.circle(frame, (a, b), 5, \n",
    "\t\t\t\t\t\tcolor[i].tolist(), -1) \n",
    "\timg = cv2.add(frame, mask) \n",
    "\n",
    "\tcv2.imshow('frame', img) \n",
    "\t\n",
    "\tk = cv2.waitKey(25) \n",
    "\tif k == 27: \n",
    "\t\tbreak\n",
    "\n",
    "\t# Updating Previous frame and points \n",
    "\told_gray = frame_gray.copy() \n",
    "\tp0 = good_new.reshape(-1, 1, 2) \n",
    "\n",
    "cv2.destroyAllWindows() \n",
    "cap.release() \n"
   ]
  },
  {
   "cell_type": "code",
   "execution_count": null,
   "metadata": {},
   "outputs": [],
   "source": []
  },
  {
   "cell_type": "code",
   "execution_count": null,
   "metadata": {},
   "outputs": [],
   "source": []
  }
 ],
 "metadata": {
  "kernelspec": {
   "display_name": "Python 3",
   "language": "python",
   "name": "python3"
  },
  "language_info": {
   "codemirror_mode": {
    "name": "ipython",
    "version": 3
   },
   "file_extension": ".py",
   "mimetype": "text/x-python",
   "name": "python",
   "nbconvert_exporter": "python",
   "pygments_lexer": "ipython3",
   "version": "3.7.6"
  }
 },
 "nbformat": 4,
 "nbformat_minor": 4
}
